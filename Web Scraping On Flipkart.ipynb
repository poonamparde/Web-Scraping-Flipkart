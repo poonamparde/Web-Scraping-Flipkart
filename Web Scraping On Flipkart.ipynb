{
 "cells": [
  {
   "cell_type": "code",
   "execution_count": 3,
   "id": "8bc52806",
   "metadata": {},
   "outputs": [],
   "source": [
    "import pandas as pd\n",
    "import requests\n",
    "from bs4 import BeautifulSoup"
   ]
  },
  {
   "cell_type": "code",
   "execution_count": 5,
   "id": "72369252",
   "metadata": {},
   "outputs": [
    {
     "data": {
      "text/plain": [
       "200"
      ]
     },
     "execution_count": 5,
     "metadata": {},
     "output_type": "execute_result"
    }
   ],
   "source": [
    "flipkart_url = 'https://www.flipkart.com/search?q=iphone&otracker=search&otracker1=search&marketplace=FLIPKART&as-show=on&as=off&page='              \n",
    "response = requests.get(flipkart_url) \n",
    "response.status_code"
   ]
  },
  {
   "cell_type": "code",
   "execution_count": 6,
   "id": "b18a693c",
   "metadata": {},
   "outputs": [],
   "source": [
    "soup = BeautifulSoup(response.content, 'html.parser')"
   ]
  },
  {
   "cell_type": "code",
   "execution_count": 5,
   "id": "614c9d42",
   "metadata": {},
   "outputs": [],
   "source": [
    "Product_name = []\n",
    "Product_detail = []\n",
    "Product_rating = []\n",
    "Product_price = []\n",
    "all_phone = soup.find_all('div',{'class',\"_13oc-S\"})\n",
    "\n",
    "for i in range(1,17):\n",
    "    flipkart_url = 'https://www.flipkart.com/search?q=iphone&otracker=search&otracker1=search&marketplace=FLIPKART&as-show=on&as=off&page=' + str(i)                 \n",
    "    response = requests.get(flipkart_url)  \n",
    "\n",
    "    for phone in all_phone:\n",
    "        name = soup.find_all('div',{'class': \"_4rR01T\"})\n",
    "        details= soup.find_all('ul',{'class': \"_1xgFaf\"})\n",
    "        rating = soup.find_all('div',{'class' : \"_3LWZlK\"}) \n",
    "        price = soup.find_all('div',{'class': \"_30jeq3 _1_WHN1\"})\n",
    "\n",
    "        for n in name:\n",
    "            if len(n) !=0:\n",
    "                Product_name.append(n.get_text())\n",
    "            else:\n",
    "                name = 'NaN'\n",
    "        for d in details:\n",
    "            if len(d)!=0:\n",
    "                Product_detail.append(d.get_text())\n",
    "            else:\n",
    "                details = 'NaN'\n",
    "        for r in rating:\n",
    "            if len(r)!=0:\n",
    "                Product_rating.append(r.get_text())\n",
    "            else:\n",
    "                rating = 'NaN'\n",
    "        for p in price:\n",
    "            if len(p) !=0:\n",
    "                Product_price.append(p.get_text())\n",
    "            else:\n",
    "                 price = 'NaN'\n",
    "\n",
    "data = {'Product_name': Product_name, 'Product_rating':Product_rating,\n",
    "        'Product_price' : Product_price, 'Product_details': Product_detail }\n",
    "flipkart_iphone_data = pd.DataFrame.from_dict({key: pd.Series(value) for key, value in data.items()})\n",
    "flipkart_iphone_data.to_csv('Flipkart(iphone).csv',index = False)"
   ]
  },
  {
   "cell_type": "markdown",
   "id": "e409e517",
   "metadata": {},
   "source": [
    "Data Format -- Product Name, Product Rating, Product Price, Product Details"
   ]
  },
  {
   "cell_type": "code",
   "execution_count": 7,
   "id": "9ad18eb2",
   "metadata": {},
   "outputs": [
    {
     "data": {
      "text/html": [
       "<div>\n",
       "<style scoped>\n",
       "    .dataframe tbody tr th:only-of-type {\n",
       "        vertical-align: middle;\n",
       "    }\n",
       "\n",
       "    .dataframe tbody tr th {\n",
       "        vertical-align: top;\n",
       "    }\n",
       "\n",
       "    .dataframe thead th {\n",
       "        text-align: right;\n",
       "    }\n",
       "</style>\n",
       "<table border=\"1\" class=\"dataframe\">\n",
       "  <thead>\n",
       "    <tr style=\"text-align: right;\">\n",
       "      <th></th>\n",
       "      <th>Product_name</th>\n",
       "      <th>Product_rating</th>\n",
       "      <th>Product_price</th>\n",
       "      <th>Product_details</th>\n",
       "    </tr>\n",
       "  </thead>\n",
       "  <tbody>\n",
       "    <tr>\n",
       "      <th>0</th>\n",
       "      <td>APPLE iPhone 11 (White, 64 GB)</td>\n",
       "      <td>4.6</td>\n",
       "      <td>₹46,999</td>\n",
       "      <td>64 GB ROM15.49 cm (6.1 inch) Liquid Retina HD ...</td>\n",
       "    </tr>\n",
       "    <tr>\n",
       "      <th>1</th>\n",
       "      <td>APPLE iPhone 11 (Black, 64 GB)</td>\n",
       "      <td>4.6</td>\n",
       "      <td>₹46,999</td>\n",
       "      <td>64 GB ROM15.49 cm (6.1 inch) Liquid Retina HD ...</td>\n",
       "    </tr>\n",
       "    <tr>\n",
       "      <th>2</th>\n",
       "      <td>APPLE iPhone 11 (Green, 64 GB)</td>\n",
       "      <td>4.6</td>\n",
       "      <td>₹46,999</td>\n",
       "      <td>64 GB ROM15.49 cm (6.1 inch) Liquid Retina HD ...</td>\n",
       "    </tr>\n",
       "    <tr>\n",
       "      <th>3</th>\n",
       "      <td>APPLE iPhone 11 (Purple, 128 GB)</td>\n",
       "      <td>4.6</td>\n",
       "      <td>₹54,900</td>\n",
       "      <td>128 GB ROM15.49 cm (6.1 inch) Liquid Retina HD...</td>\n",
       "    </tr>\n",
       "    <tr>\n",
       "      <th>4</th>\n",
       "      <td>APPLE iPhone 12 (Purple, 256 GB)</td>\n",
       "      <td>4.6</td>\n",
       "      <td>₹74,999</td>\n",
       "      <td>256 GB ROM15.49 cm (6.1 inch) Super Retina XDR...</td>\n",
       "    </tr>\n",
       "  </tbody>\n",
       "</table>\n",
       "</div>"
      ],
      "text/plain": [
       "                       Product_name Product_rating Product_price  \\\n",
       "0    APPLE iPhone 11 (White, 64 GB)            4.6       ₹46,999   \n",
       "1    APPLE iPhone 11 (Black, 64 GB)            4.6       ₹46,999   \n",
       "2    APPLE iPhone 11 (Green, 64 GB)            4.6       ₹46,999   \n",
       "3  APPLE iPhone 11 (Purple, 128 GB)            4.6       ₹54,900   \n",
       "4  APPLE iPhone 12 (Purple, 256 GB)            4.6       ₹74,999   \n",
       "\n",
       "                                     Product_details  \n",
       "0  64 GB ROM15.49 cm (6.1 inch) Liquid Retina HD ...  \n",
       "1  64 GB ROM15.49 cm (6.1 inch) Liquid Retina HD ...  \n",
       "2  64 GB ROM15.49 cm (6.1 inch) Liquid Retina HD ...  \n",
       "3  128 GB ROM15.49 cm (6.1 inch) Liquid Retina HD...  \n",
       "4  256 GB ROM15.49 cm (6.1 inch) Super Retina XDR...  "
      ]
     },
     "execution_count": 7,
     "metadata": {},
     "output_type": "execute_result"
    }
   ],
   "source": [
    "flipkart_iphone_data.head(5)"
   ]
  },
  {
   "cell_type": "code",
   "execution_count": 9,
   "id": "e54f181e",
   "metadata": {},
   "outputs": [
    {
     "data": {
      "text/plain": [
       "(14592, 4)"
      ]
     },
     "execution_count": 9,
     "metadata": {},
     "output_type": "execute_result"
    }
   ],
   "source": [
    "flipkart_iphone_data.shape                  # no of rows and columns"
   ]
  },
  {
   "cell_type": "code",
   "execution_count": null,
   "id": "e1288942",
   "metadata": {},
   "outputs": [],
   "source": []
  },
  {
   "cell_type": "code",
   "execution_count": null,
   "id": "18ad3faa",
   "metadata": {},
   "outputs": [],
   "source": []
  },
  {
   "cell_type": "code",
   "execution_count": null,
   "id": "f50b20f0",
   "metadata": {},
   "outputs": [],
   "source": []
  },
  {
   "cell_type": "code",
   "execution_count": null,
   "id": "8254f71b",
   "metadata": {},
   "outputs": [],
   "source": []
  }
 ],
 "metadata": {
  "kernelspec": {
   "display_name": "Python 3 (ipykernel)",
   "language": "python",
   "name": "python3"
  },
  "language_info": {
   "codemirror_mode": {
    "name": "ipython",
    "version": 3
   },
   "file_extension": ".py",
   "mimetype": "text/x-python",
   "name": "python",
   "nbconvert_exporter": "python",
   "pygments_lexer": "ipython3",
   "version": "3.9.7"
  }
 },
 "nbformat": 4,
 "nbformat_minor": 5
}
